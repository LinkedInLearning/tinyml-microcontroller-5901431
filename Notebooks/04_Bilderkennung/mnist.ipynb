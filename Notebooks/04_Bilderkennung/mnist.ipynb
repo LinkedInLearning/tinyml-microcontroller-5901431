{
 "cells": [
  {
   "cell_type": "code",
   "execution_count": 1,
   "metadata": {},
   "outputs": [],
   "source": [
    "# based on https://github.com/tensorflow/tflite-micro/blob/main/tensorflow/lite/micro/examples/mnist_lstm/train.py"
   ]
  },
  {
   "cell_type": "code",
   "execution_count": 2,
   "metadata": {},
   "outputs": [
    {
     "data": {
      "text/plain": [
       "'LSTM model training for MNIST recognition\\n\\nThis script is based on:\\nhttps://www.tensorflow.org/lite/models/convert/rnn\\nhttps://colab.research.google.com/github/tensorflow/tensorflow/blob/master/tensorflow/lite/examples/experimental_new_converter/Keras_LSTM_fusion_Codelab.ipynb\\n\\n'"
      ]
     },
     "execution_count": 2,
     "metadata": {},
     "output_type": "execute_result"
    }
   ],
   "source": [
    "# Copyright 2022 The TensorFlow Authors. All Rights Reserved.\n",
    "#\n",
    "# Licensed under the Apache License, Version 2.0 (the \"License\");\n",
    "# you may not use this file except in compliance with the License.\n",
    "# You may obtain a copy of the License at\n",
    "#\n",
    "#     http://www.apache.org/licenses/LICENSE-2.0\n",
    "#\n",
    "# Unless required by applicable law or agreed to in writing, software\n",
    "# distributed under the License is distributed on an \"AS IS\" BASIS,\n",
    "# WITHOUT WARRANTIES OR CONDITIONS OF ANY KIND, either express or implied.\n",
    "# See the License for the specific language governing permissions and\n",
    "# limitations under the License.\n",
    "# =============================================================================\n",
    "\"\"\"LSTM model training for MNIST recognition\n",
    "\n",
    "This script is based on:\n",
    "https://www.tensorflow.org/lite/models/convert/rnn\n",
    "https://colab.research.google.com/github/tensorflow/tensorflow/blob/master/tensorflow/lite/examples/experimental_new_converter/Keras_LSTM_fusion_Codelab.ipynb\n",
    "\n",
    "\"\"\"\n"
   ]
  },
  {
   "cell_type": "code",
   "execution_count": 3,
   "metadata": {},
   "outputs": [],
   "source": [
    "import os;os.environ[\"TF_USE_LEGACY_KERAS\"]=\"1\"\n",
    "from absl import logging        # type: ignore\n",
    "import numpy as np              # type: ignore\n",
    "import tensorflow as tf         # type: ignore\n",
    "import matplotlib.pyplot as plt # type: ignore"
   ]
  },
  {
   "cell_type": "markdown",
   "metadata": {},
   "source": [
    "Configuration"
   ]
  },
  {
   "cell_type": "code",
   "execution_count": 4,
   "metadata": {},
   "outputs": [],
   "source": [
    "epochs = 20\n",
    "save_dir = \"../../Code/04_Bilderkennung\"\n",
    "quantize = True\n",
    "lstm = True\n",
    "\n",
    "save_tf_model = False"
   ]
  },
  {
   "cell_type": "markdown",
   "metadata": {},
   "source": [
    "Model Definition"
   ]
  },
  {
   "cell_type": "code",
   "execution_count": 5,
   "metadata": {},
   "outputs": [],
   "source": [
    "def create_LSTM_model(units=20):\n",
    "  \"\"\"Create a keras LSTM model for MNIST recognition\n",
    "\n",
    "    Args:\n",
    "        units (int, optional): dimensionality of the output space for the model.\n",
    "          Defaults to 20.\n",
    "\n",
    "    Returns:\n",
    "        tf.keras.Model: A Keras LSTM model\n",
    "    \"\"\"\n",
    "\n",
    "  model = tf.keras.models.Sequential([\n",
    "      tf.keras.layers.Input(shape=(28, 28), name=\"input\"),\n",
    "      tf.keras.layers.LSTM(units, return_sequences=True),\n",
    "      tf.keras.layers.Flatten(),\n",
    "      tf.keras.layers.Dense(10, activation=tf.nn.softmax, name=\"output\")\n",
    "  ])\n",
    "  model.compile(optimizer=\"adam\",\n",
    "                loss=\"sparse_categorical_crossentropy\",\n",
    "                metrics=[\"accuracy\"])\n",
    "  model.summary()\n",
    "  return model\n"
   ]
  },
  {
   "cell_type": "code",
   "execution_count": 6,
   "metadata": {},
   "outputs": [],
   "source": [
    "def create_CNN_model(num_filters=4, num_neurons=16):\n",
    "    \"\"\"Create a Keras CNN model for MNIST recognition\n",
    "\n",
    "    Args:\n",
    "        num_filters (int, optional): Number of filters in the Conv2D layer. Defaults to 4.\n",
    "        num_neurons (int, optional): Number of neurons in the Dense layer. Defaults to 16.\n",
    "\n",
    "    Returns:\n",
    "        tf.keras.Model: A Keras CNN model\n",
    "    \"\"\"\n",
    "\n",
    "    model = tf.keras.models.Sequential([\n",
    "        tf.keras.layers.Input(shape=(28, 28, 1), name=\"input\"),\n",
    "        tf.keras.layers.Conv2D(num_filters, (3,3), padding='same', activation='relu'),\n",
    "        tf.keras.layers.MaxPooling2D((2, 2)),\n",
    "        tf.keras.layers.Flatten(),\n",
    "        tf.keras.layers.Dense(num_neurons, activation='relu'),\n",
    "        tf.keras.layers.Dense(10, activation=tf.nn.softmax, name=\"output\")\n",
    "    ])\n",
    "    model.compile(\n",
    "        optimizer=tf.keras.optimizers.Adam(0.001),\n",
    "        loss=tf.keras.losses.SparseCategoricalCrossentropy(from_logits=True),\n",
    "        metrics=[tf.keras.metrics.SparseCategoricalAccuracy()],\n",
    "    )\n",
    "    model.summary()\n",
    "    return model"
   ]
  },
  {
   "cell_type": "code",
   "execution_count": 7,
   "metadata": {},
   "outputs": [],
   "source": [
    "def train_model(epochs, x_train, y_train):\n",
    "  \"\"\"Train keras LSTM model on MNIST dataset\n",
    "\n",
    "    Args: epochs (int) : number of epochs to train the model\n",
    "        x_train (numpy.array): list of the training data\n",
    "        y_train (numpy.array): list of the corresponding array\n",
    "\n",
    "    Returns:\n",
    "        tf.keras.Model: A trained keras LSTM model\n",
    "  \"\"\"\n",
    "  if lstm:\n",
    "    model = create_LSTM_model()\n",
    "  else:\n",
    "    model = create_CNN_model()\n",
    "\n",
    "  callback = tf.keras.callbacks.EarlyStopping(\n",
    "      monitor=\"val_loss\",\n",
    "      patience=3)  # early stop if validation loss does not drop anymore\n",
    "  model.fit(x_train,\n",
    "            y_train,\n",
    "            epochs=epochs,\n",
    "            validation_split=0.2,\n",
    "            batch_size=32,\n",
    "            callbacks=[callback])\n",
    "  return model"
   ]
  },
  {
   "cell_type": "markdown",
   "metadata": {},
   "source": [
    "Training Data"
   ]
  },
  {
   "cell_type": "code",
   "execution_count": 8,
   "metadata": {},
   "outputs": [],
   "source": [
    "def get_train_data():\n",
    "  \"\"\"Get MNIST train and test data\n",
    "\n",
    "    Returns:\n",
    "        tuple: (data, label) pairs for train and test\n",
    "    \"\"\"\n",
    "  (x_train, y_train), _ = tf.keras.datasets.mnist.load_data()\n",
    "  x_train = x_train / 255.  # normalize pixel values to 0-1\n",
    "  x_train = x_train.astype(np.float32)\n",
    "  return (x_train, y_train)"
   ]
  },
  {
   "cell_type": "code",
   "execution_count": 9,
   "metadata": {},
   "outputs": [
    {
     "data": {
      "image/png": "[encoded data removed]",
      "text/plain": [
       "<Figure size 640x480 with 1 Axes>"
      ]
     },
     "metadata": {},
     "output_type": "display_data"
    },
    {
     "name": "stdout",
     "output_type": "stream",
     "text": [
      "y_train[0]: 5\n"
     ]
    }
   ],
   "source": [
    "(x_train, y_train) = get_train_data()\n",
    "\n",
    "plt.imshow(x_train[0], cmap='gray')\n",
    "plt.show()\n",
    "print(\"y_train[0]:\", y_train[0])"
   ]
  },
  {
   "cell_type": "markdown",
   "metadata": {},
   "source": [
    "Quantization"
   ]
  },
  {
   "cell_type": "code",
   "execution_count": 10,
   "metadata": {},
   "outputs": [],
   "source": [
    "def convert_quantized_tflite_model(model, x_train):\n",
    "  \"\"\"Convert the save TF model to tflite model, then save it as .tflite flatbuffer format\n",
    "\n",
    "    See\n",
    "    https://www.tensorflow.org/lite/performance/post_training_integer_quant#convert_using_integer-only_quantization\n",
    "\n",
    "    Args:\n",
    "        model (tf.keras.Model): the trained Model\n",
    "        x_train (numpy.array): list of the training data\n",
    "\n",
    "    Returns:\n",
    "        The converted model in serialized format.\n",
    "  \"\"\"\n",
    "\n",
    "  def representative_dataset_gen(num_samples=100):\n",
    "    for data in x_train[:num_samples]:\n",
    "      yield [data.reshape(1, 28, 28)]\n",
    "\n",
    "  converter = tf.lite.TFLiteConverter.from_keras_model(model)\n",
    "  converter.optimizations = [tf.lite.Optimize.DEFAULT]\n",
    "  converter.target_spec.supported_ops = [tf.lite.OpsSet.TFLITE_BUILTINS_INT8]\n",
    "  converter.inference_input_type = tf.int8\n",
    "  converter.inference_output_type = tf.int8\n",
    "  converter.representative_dataset = representative_dataset_gen\n",
    "  tflite_model = converter.convert()\n",
    "  return tflite_model"
   ]
  },
  {
   "cell_type": "markdown",
   "metadata": {},
   "source": [
    "TensorFlow Lite Model"
   ]
  },
  {
   "cell_type": "code",
   "execution_count": 11,
   "metadata": {},
   "outputs": [],
   "source": [
    "def convert_tflite_model(model):\n",
    "  \"\"\"Convert the save TF model to tflite model, then save it as .tflite flatbuffer format\n",
    "\n",
    "    Args:\n",
    "        model (tf.keras.Model): the trained Model\n",
    "\n",
    "    Returns:\n",
    "        The converted model in serialized format.\n",
    "  \"\"\"\n",
    "  converter = tf.lite.TFLiteConverter.from_keras_model(model)\n",
    "  tflite_model = converter.convert()\n",
    "  return tflite_model\n",
    "\n",
    "\n",
    "def save_tflite_model(tflite_model, save_dir, model_name):\n",
    "  \"\"\"save the converted tflite model\n",
    "\n",
    "  Args:\n",
    "      tflite_model (binary): the converted model in serialized format.\n",
    "      save_dir (str): the save directory\n",
    "      model_name (str): model name to be saved\n",
    "  \"\"\"\n",
    "  if not os.path.exists(save_dir):\n",
    "    os.makedirs(save_dir)\n",
    "  save_path = os.path.join(save_dir, model_name)\n",
    "  with open(save_path, \"wb\") as f:\n",
    "    f.write(tflite_model)\n",
    "  logging.info(\"Tflite model saved to %s\", save_dir)"
   ]
  },
  {
   "cell_type": "markdown",
   "metadata": {},
   "source": [
    "Fix the Input"
   ]
  },
  {
   "cell_type": "code",
   "execution_count": 12,
   "metadata": {},
   "outputs": [],
   "source": [
    "def prepare_trained_model(trained_model):\n",
    "  \"\"\"Fix the input of the trained model for inference\n",
    "\n",
    "    Args:\n",
    "        trained_model (tf.keras.Model): the trained model\n",
    "\n",
    "    Returns:\n",
    "        run_model (tf.keras.Model): the trained model with fixed input tensor size for inference\n",
    "  \"\"\"\n",
    "  # TFLite converter requires fixed shape input to work, alternative: b/225231544\n",
    "  fixed_input = tf.keras.layers.Input(shape=[28, 28],\n",
    "                                      batch_size=1,\n",
    "                                      dtype=trained_model.inputs[0].dtype,\n",
    "                                      name=\"fixed_input\")\n",
    "  fixed_output = trained_model(fixed_input)\n",
    "  run_model = tf.keras.models.Model(fixed_input, fixed_output)\n",
    "  return run_model"
   ]
  },
  {
   "cell_type": "markdown",
   "metadata": {},
   "source": [
    "Main"
   ]
  },
  {
   "cell_type": "code",
   "execution_count": 13,
   "metadata": {},
   "outputs": [
    {
     "name": "stdout",
     "output_type": "stream",
     "text": [
      "Model: \"sequential\"\n",
      "_________________________________________________________________\n",
      " Layer (type)                Output Shape              Param #   \n",
      "=================================================================\n",
      " lstm (LSTM)                 (None, 28, 20)            3920      \n",
      "                                                                 \n",
      " flatten (Flatten)           (None, 560)               0         \n",
      "                                                                 \n",
      " output (Dense)              (None, 10)                5610      \n",
      "                                                                 \n",
      "=================================================================\n",
      "Total params: 9530 (37.23 KB)\n",
      "Trainable params: 9530 (37.23 KB)\n",
      "Non-trainable params: 0 (0.00 Byte)\n",
      "_________________________________________________________________\n",
      "Epoch 1/20\n",
      "1500/1500 [==============================] - 35s 8ms/step - loss: 0.3753 - accuracy: 0.8898 - val_loss: 0.1648 - val_accuracy: 0.9516\n",
      "Epoch 2/20\n",
      "1500/1500 [==============================] - 11s 7ms/step - loss: 0.1451 - accuracy: 0.9562 - val_loss: 0.1163 - val_accuracy: 0.9647\n",
      "Epoch 3/20\n",
      "1500/1500 [==============================] - 12s 8ms/step - loss: 0.1027 - accuracy: 0.9685 - val_loss: 0.0972 - val_accuracy: 0.9707\n",
      "Epoch 4/20\n",
      "1500/1500 [==============================] - 12s 8ms/step - loss: 0.0806 - accuracy: 0.9755 - val_loss: 0.0915 - val_accuracy: 0.9717\n",
      "Epoch 5/20\n",
      "1500/1500 [==============================] - 11s 8ms/step - loss: 0.0684 - accuracy: 0.9783 - val_loss: 0.0704 - val_accuracy: 0.9786\n",
      "Epoch 6/20\n",
      "1500/1500 [==============================] - 11s 8ms/step - loss: 0.0597 - accuracy: 0.9810 - val_loss: 0.0652 - val_accuracy: 0.9800\n",
      "Epoch 7/20\n",
      "1500/1500 [==============================] - 12s 8ms/step - loss: 0.0526 - accuracy: 0.9829 - val_loss: 0.0637 - val_accuracy: 0.9804\n",
      "Epoch 8/20\n",
      "1500/1500 [==============================] - 12s 8ms/step - loss: 0.0485 - accuracy: 0.9846 - val_loss: 0.0618 - val_accuracy: 0.9812\n",
      "Epoch 9/20\n",
      "1500/1500 [==============================] - 11s 8ms/step - loss: 0.0436 - accuracy: 0.9862 - val_loss: 0.0590 - val_accuracy: 0.9823\n",
      "Epoch 10/20\n",
      "1500/1500 [==============================] - 11s 8ms/step - loss: 0.0407 - accuracy: 0.9869 - val_loss: 0.0575 - val_accuracy: 0.9824\n",
      "Epoch 11/20\n",
      "1500/1500 [==============================] - 11s 7ms/step - loss: 0.0374 - accuracy: 0.9876 - val_loss: 0.0623 - val_accuracy: 0.9815\n",
      "Epoch 12/20\n",
      "1500/1500 [==============================] - 11s 7ms/step - loss: 0.0346 - accuracy: 0.9887 - val_loss: 0.0571 - val_accuracy: 0.9831\n",
      "Epoch 13/20\n",
      "1500/1500 [==============================] - 11s 7ms/step - loss: 0.0326 - accuracy: 0.9892 - val_loss: 0.0585 - val_accuracy: 0.9829\n",
      "Epoch 14/20\n",
      "1500/1500 [==============================] - 11s 7ms/step - loss: 0.0295 - accuracy: 0.9906 - val_loss: 0.0539 - val_accuracy: 0.9841\n",
      "Epoch 15/20\n",
      "1500/1500 [==============================] - 11s 7ms/step - loss: 0.0281 - accuracy: 0.9908 - val_loss: 0.0597 - val_accuracy: 0.9832\n",
      "Epoch 16/20\n",
      "1500/1500 [==============================] - 11s 7ms/step - loss: 0.0255 - accuracy: 0.9915 - val_loss: 0.0560 - val_accuracy: 0.9839\n",
      "Epoch 17/20\n",
      "1500/1500 [==============================] - 11s 7ms/step - loss: 0.0250 - accuracy: 0.9916 - val_loss: 0.0530 - val_accuracy: 0.9860\n",
      "Epoch 18/20\n",
      "1500/1500 [==============================] - 11s 7ms/step - loss: 0.0234 - accuracy: 0.9924 - val_loss: 0.0600 - val_accuracy: 0.9822\n",
      "Epoch 19/20\n",
      "1500/1500 [==============================] - 12s 8ms/step - loss: 0.0213 - accuracy: 0.9929 - val_loss: 0.0558 - val_accuracy: 0.9843\n",
      "Epoch 20/20\n",
      "1500/1500 [==============================] - 11s 8ms/step - loss: 0.0203 - accuracy: 0.9932 - val_loss: 0.0542 - val_accuracy: 0.9843\n"
     ]
    }
   ],
   "source": [
    "x_train, y_train = get_train_data()\n",
    "trained_model = train_model(epochs, x_train, y_train)\n",
    "run_model = prepare_trained_model(trained_model)\n"
   ]
  },
  {
   "cell_type": "code",
   "execution_count": 14,
   "metadata": {},
   "outputs": [
    {
     "name": "stdout",
     "output_type": "stream",
     "text": [
      "INFO:tensorflow:Assets written to: /var/folders/yk/81mgpql17txc1f4grnlsknyc0000r9/T/tmpbtqg_q5d/assets\n"
     ]
    },
    {
     "name": "stderr",
     "output_type": "stream",
     "text": [
      "INFO:tensorflow:Assets written to: /var/folders/yk/81mgpql17txc1f4grnlsknyc0000r9/T/tmpbtqg_q5d/assets\n",
      "/Users/linkedin/tinyml-microcontroller-5901431/Notebooks/venv/lib/python3.12/site-packages/tensorflow/lite/python/convert.py:964: UserWarning: Statistics for quantized inputs were expected, but not specified; continuing anyway.\n",
      "  warnings.warn(\n",
      "WARNING: All log messages before absl::InitializeLog() is called are written to STDERR\n",
      "W0000 00:00:1715024222.186374 1632580 tf_tfl_flatbuffer_helpers.cc:390] Ignored output_format.\n",
      "W0000 00:00:1715024222.186414 1632580 tf_tfl_flatbuffer_helpers.cc:393] Ignored drop_control_dependency.\n",
      "2024-05-06 21:37:02.187483: I tensorflow/cc/saved_model/reader.cc:83] Reading SavedModel from: /var/folders/yk/81mgpql17txc1f4grnlsknyc0000r9/T/tmpbtqg_q5d\n",
      "2024-05-06 21:37:02.197325: I tensorflow/cc/saved_model/reader.cc:51] Reading meta graph with tags { serve }\n",
      "2024-05-06 21:37:02.197343: I tensorflow/cc/saved_model/reader.cc:146] Reading SavedModel debug info (if present) from: /var/folders/yk/81mgpql17txc1f4grnlsknyc0000r9/T/tmpbtqg_q5d\n",
      "2024-05-06 21:37:02.275365: I tensorflow/compiler/mlir/mlir_graph_optimization_pass.cc:388] MLIR V1 optimization pass is not enabled\n",
      "2024-05-06 21:37:02.286812: I tensorflow/cc/saved_model/loader.cc:234] Restoring SavedModel bundle.\n",
      "2024-05-06 21:37:02.392111: I tensorflow/cc/saved_model/loader.cc:218] Running initialization op on SavedModel bundle at path: /var/folders/yk/81mgpql17txc1f4grnlsknyc0000r9/T/tmpbtqg_q5d\n",
      "2024-05-06 21:37:02.461786: I tensorflow/cc/saved_model/loader.cc:317] SavedModel load for tags { serve }; Status: success: OK. Took 274312 microseconds.\n",
      "2024-05-06 21:37:02.643566: I tensorflow/compiler/mlir/tensorflow/utils/dump_mlir_util.cc:268] disabling MLIR crash reproducer, set env var `MLIR_CRASH_REPRODUCER_DIRECTORY` to enable.\n",
      "2024-05-06 21:37:02.772064: I tensorflow/compiler/mlir/lite/flatbuffer_export.cc:3064] Estimated count of arithmetic ops: 0.012 M  ops, equivalently 0.006 M  MACs\n",
      "fully_quantize: 0, inference_type: 6, input_inference_type: INT8, output_inference_type: INT8\n",
      "2024-05-06 21:37:02.820658: I tensorflow/compiler/mlir/lite/flatbuffer_export.cc:3064] Estimated count of arithmetic ops: 0.012 M  ops, equivalently 0.006 M  MACs\n"
     ]
    }
   ],
   "source": [
    "\n",
    "# Save the tf model\n",
    "if save_tf_model:\n",
    "  run_model.save(save_dir, save_format=\"tf\")\n",
    "  logging.info(\"TF model saved to %s\", save_dir)\n",
    "\n",
    "if quantize:\n",
    "# Convert and save the quantized model\n",
    "  quantized_tflite_model = convert_quantized_tflite_model(run_model, x_train)\n",
    "  save_tflite_model(quantized_tflite_model,\n",
    "                    save_dir,\n",
    "                    model_name=\"mnist_lstm_quant.tflite\" if lstm else \"mnist_cnn_quant.tflite\")\n",
    "else:\n",
    "  # Convert and save the model to .tflite\n",
    "  tflite_model = convert_tflite_model(run_model)\n",
    "  save_tflite_model(tflite_model,\n",
    "                    save_dir,\n",
    "                    model_name=\"mnist_lstm.tflite\" if lstm else \"mnist_cnn.tflite\")"
   ]
  },
  {
   "cell_type": "code",
   "execution_count": 18,
   "metadata": {},
   "outputs": [
    {
     "name": "stdout",
     "output_type": "stream",
     "text": [
      "File size of mnist_lstm_quant.tflite: 13992 bytes\n"
     ]
    }
   ],
   "source": [
    "# show file size of all .tflite files in ../../Code/04_Bilderkennung\n",
    "import os\n",
    "for file in os.listdir(\"../../Code/04_Bilderkennung\"):\n",
    "    if file.endswith(\".tflite\"):\n",
    "        statinfo = os.stat(os.path.join(\"../../Code/04_Bilderkennung\", file))\n",
    "        print(f\"File size of {file}: {statinfo.st_size} bytes\")\n",
    "\n"
   ]
  },
  {
   "cell_type": "markdown",
   "metadata": {},
   "source": []
  },
  {
   "cell_type": "markdown",
   "metadata": {},
   "source": []
  }
 ],
 "metadata": {
  "kernelspec": {
   "display_name": "venv",
   "language": "python",
   "name": "python3"
  },
  "language_info": {
   "codemirror_mode": {
    "name": "ipython",
    "version": 3
   },
   "file_extension": ".py",
   "mimetype": "text/x-python",
   "name": "python",
   "nbconvert_exporter": "python",
   "pygments_lexer": "ipython3",
   "version": "3.12.3"
  }
 },
 "nbformat": 4,
 "nbformat_minor": 2
}
